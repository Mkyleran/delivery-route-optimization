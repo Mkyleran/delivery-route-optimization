{
 "cells": [
  {
   "cell_type": "markdown",
   "id": "64a668a1-0760-4f25-b26d-b828704c1233",
   "metadata": {},
   "source": [
    "### Fuel cost"
   ]
  },
  {
   "cell_type": "markdown",
   "id": "3b4b1358-de59-40c8-8a02-ef842abef6ef",
   "metadata": {},
   "source": [
    "[2021 Transit Cargo Van](https://www.ford.ca/commercial-trucks/transit-cargo-van/models/transit-cargo-van/)\n",
    "\n",
    "|Fuel Economy|Est. L/100km|\n",
    "|-|-|\n",
    "|City|16.8|\n",
    "|Hwy|13.0|\n",
    "\n",
    "It's likely worse for turning the engine off every stop."
   ]
  },
  {
   "cell_type": "markdown",
   "id": "819bd790-cd9a-4282-b9dc-200c644b5a28",
   "metadata": {},
   "source": [
    "Monthly average retail prices for regular unleaded gasoline at self service filling stations: \n",
    "\n",
    "|Geography|Period|Cents per litre|\n",
    "|-|-|-|\n",
    "|Calgary, AB|January 2022|138.9|\n",
    "\n",
    "Statistics Canada. [Table 18-10-0001-01  Monthly average retail prices for gasoline and fuel oil, by geography](https://www150.statcan.gc.ca/t1/tbl1/en/tv.action?pid=1810000101)"
   ]
  },
  {
   "cell_type": "code",
   "execution_count": 2,
   "id": "de0c4d6e-c530-4bcf-80af-1b292361db8b",
   "metadata": {},
   "outputs": [
    {
     "data": {
      "text/plain": [
       "23.3352"
      ]
     },
     "execution_count": 2,
     "metadata": {},
     "output_type": "execute_result"
    }
   ],
   "source": [
    "# $/100km\n",
    "16.8*138.9/100"
   ]
  },
  {
   "cell_type": "markdown",
   "id": "2452fe11-91fb-48fc-a959-4df86611ef55",
   "metadata": {},
   "source": [
    "## Wages\n",
    "\n",
    "Average wage of Transportation and Warehousing delivery and courier service drivers in Calgary\n",
    "\n",
    "18.87 ($/hr)\n",
    "\n",
    "alis Alberta [Wages and Salaries in Alberta](https://alis.alberta.ca/occinfo/wages-and-salaries-in-alberta/delivery-and-courier-service-drivers/7514/)"
   ]
  },
  {
   "cell_type": "code",
   "execution_count": null,
   "id": "9b8873ec-e648-453d-8388-9c8dc377609e",
   "metadata": {},
   "outputs": [],
   "source": []
  }
 ],
 "metadata": {
  "kernelspec": {
   "display_name": "Python 3 (ipykernel)",
   "language": "python",
   "name": "python3"
  },
  "language_info": {
   "codemirror_mode": {
    "name": "ipython",
    "version": 3
   },
   "file_extension": ".py",
   "mimetype": "text/x-python",
   "name": "python",
   "nbconvert_exporter": "python",
   "pygments_lexer": "ipython3",
   "version": "3.9.10"
  }
 },
 "nbformat": 4,
 "nbformat_minor": 5
}
