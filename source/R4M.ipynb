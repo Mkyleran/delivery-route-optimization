{
 "cells": [
  {
   "cell_type": "markdown",
   "id": "79c394b4-ea43-40b3-af13-d6c255ba8df5",
   "metadata": {},
   "source": [
    "# Route4Me\n",
    "\n",
    "Evaluation base line\n",
    "\n",
    "- [Documentation](https://route4me.io/docs/)\n",
    "- [Python SDK](https://github.com/route4me/route4me-python-sdk)"
   ]
  },
  {
   "cell_type": "markdown",
   "id": "c5125e2a-587e-4481-87b2-887d85a677d5",
   "metadata": {},
   "source": [
    "## Import"
   ]
  },
  {
   "cell_type": "code",
   "execution_count": 54,
   "id": "25b30802-e981-41a0-9333-ac2e7867055d",
   "metadata": {},
   "outputs": [],
   "source": [
    "# Local modules\n",
    "from modules import credentials, utilities\n",
    "\n",
    "import pandas as pd\n",
    "import geopandas as gpd\n",
    "import numpy as np\n",
    "import matplotlib.pyplot as plt\n",
    "\n",
    "import time\n",
    "import ast\n",
    "\n",
    "import requests\n",
    "from IPython.display import JSON\n",
    "\n",
    "import plotly.express as px\n",
    "import plotly.graph_objects as go\n",
    "\n",
    "import polyline\n",
    "import folium\n",
    "\n",
    "# Open Calgary API\n",
    "from sodapy import Socrata\n",
    "\n",
    "from route4me import Route4Me\n",
    "from route4me.constants import (\n",
    "    ALGORITHM_TYPE, DISTANCE_UNIT, TRAVEL_MODE, OPTIMIZE\n",
    ")"
   ]
  },
  {
   "cell_type": "markdown",
   "id": "def5b0b3-798d-4e3f-8904-afd45b162cbf",
   "metadata": {},
   "source": [
    "## Load data"
   ]
  },
  {
   "cell_type": "code",
   "execution_count": 2,
   "id": "9fa54bda-0701-4d36-931b-a0c466cf735c",
   "metadata": {},
   "outputs": [
    {
     "data": {
      "text/html": [
       "<div>\n",
       "<style scoped>\n",
       "    .dataframe tbody tr th:only-of-type {\n",
       "        vertical-align: middle;\n",
       "    }\n",
       "\n",
       "    .dataframe tbody tr th {\n",
       "        vertical-align: top;\n",
       "    }\n",
       "\n",
       "    .dataframe thead th {\n",
       "        text-align: right;\n",
       "    }\n",
       "</style>\n",
       "<table border=\"1\" class=\"dataframe\">\n",
       "  <thead>\n",
       "    <tr style=\"text-align: right;\">\n",
       "      <th></th>\n",
       "      <th>address</th>\n",
       "      <th>longitude</th>\n",
       "      <th>latitude</th>\n",
       "      <th>geometry</th>\n",
       "    </tr>\n",
       "  </thead>\n",
       "  <tbody>\n",
       "    <tr>\n",
       "      <th>0</th>\n",
       "      <td>5532 DALWOOD WY NW</td>\n",
       "      <td>-114.162743</td>\n",
       "      <td>51.114109</td>\n",
       "      <td>POINT (-114.16274 51.11411)</td>\n",
       "    </tr>\n",
       "    <tr>\n",
       "      <th>1</th>\n",
       "      <td>321 MAGNOLIA HE SE</td>\n",
       "      <td>-113.914848</td>\n",
       "      <td>50.891335</td>\n",
       "      <td>POINT (-113.91485 50.89134)</td>\n",
       "    </tr>\n",
       "    <tr>\n",
       "      <th>2</th>\n",
       "      <td>165 CRANFIELD GR SE</td>\n",
       "      <td>-113.981177</td>\n",
       "      <td>50.888362</td>\n",
       "      <td>POINT (-113.98118 50.88836)</td>\n",
       "    </tr>\n",
       "    <tr>\n",
       "      <th>3</th>\n",
       "      <td>2 SAGE VALLEY ME NW</td>\n",
       "      <td>-114.150439</td>\n",
       "      <td>51.178209</td>\n",
       "      <td>POINT (-114.15044 51.17821)</td>\n",
       "    </tr>\n",
       "    <tr>\n",
       "      <th>4</th>\n",
       "      <td>714 12 ST SE</td>\n",
       "      <td>-114.031285</td>\n",
       "      <td>51.041928</td>\n",
       "      <td>POINT (-114.03129 51.04193)</td>\n",
       "    </tr>\n",
       "    <tr>\n",
       "      <th>...</th>\n",
       "      <td>...</td>\n",
       "      <td>...</td>\n",
       "      <td>...</td>\n",
       "      <td>...</td>\n",
       "    </tr>\n",
       "    <tr>\n",
       "      <th>1995</th>\n",
       "      <td>5715 36 ST SE</td>\n",
       "      <td>-113.981822</td>\n",
       "      <td>51.001674</td>\n",
       "      <td>POINT (-113.98182 51.00167)</td>\n",
       "    </tr>\n",
       "    <tr>\n",
       "      <th>1996</th>\n",
       "      <td>2028 URSENBACH RD NW</td>\n",
       "      <td>-114.136418</td>\n",
       "      <td>51.070260</td>\n",
       "      <td>POINT (-114.13642 51.07026)</td>\n",
       "    </tr>\n",
       "    <tr>\n",
       "      <th>1997</th>\n",
       "      <td>23 ROYAL OAK PZ NW</td>\n",
       "      <td>-114.217089</td>\n",
       "      <td>51.150980</td>\n",
       "      <td>POINT (-114.21709 51.15098)</td>\n",
       "    </tr>\n",
       "    <tr>\n",
       "      <th>1998</th>\n",
       "      <td>8045 48 ST SE</td>\n",
       "      <td>-113.964404</td>\n",
       "      <td>50.980330</td>\n",
       "      <td>POINT (-113.96440 50.98033)</td>\n",
       "    </tr>\n",
       "    <tr>\n",
       "      <th>1999</th>\n",
       "      <td>4904 21 ST SW</td>\n",
       "      <td>-114.112082</td>\n",
       "      <td>51.011062</td>\n",
       "      <td>POINT (-114.11208 51.01106)</td>\n",
       "    </tr>\n",
       "  </tbody>\n",
       "</table>\n",
       "<p>2000 rows × 4 columns</p>\n",
       "</div>"
      ],
      "text/plain": [
       "                   address   longitude   latitude                     geometry\n",
       "0       5532 DALWOOD WY NW -114.162743  51.114109  POINT (-114.16274 51.11411)\n",
       "1       321 MAGNOLIA HE SE -113.914848  50.891335  POINT (-113.91485 50.89134)\n",
       "2      165 CRANFIELD GR SE -113.981177  50.888362  POINT (-113.98118 50.88836)\n",
       "3      2 SAGE VALLEY ME NW -114.150439  51.178209  POINT (-114.15044 51.17821)\n",
       "4             714 12 ST SE -114.031285  51.041928  POINT (-114.03129 51.04193)\n",
       "...                    ...         ...        ...                          ...\n",
       "1995         5715 36 ST SE -113.981822  51.001674  POINT (-113.98182 51.00167)\n",
       "1996  2028 URSENBACH RD NW -114.136418  51.070260  POINT (-114.13642 51.07026)\n",
       "1997    23 ROYAL OAK PZ NW -114.217089  51.150980  POINT (-114.21709 51.15098)\n",
       "1998         8045 48 ST SE -113.964404  50.980330  POINT (-113.96440 50.98033)\n",
       "1999         4904 21 ST SW -114.112082  51.011062  POINT (-114.11208 51.01106)\n",
       "\n",
       "[2000 rows x 4 columns]"
      ]
     },
     "execution_count": 2,
     "metadata": {},
     "output_type": "execute_result"
    }
   ],
   "source": [
    "gdf = utilities.load_data()\n",
    "gdf"
   ]
  },
  {
   "cell_type": "code",
   "execution_count": 6,
   "id": "cc4e83d1-06e3-43c7-a2da-f957d9622af1",
   "metadata": {
    "collapsed": true,
    "jupyter": {
     "outputs_hidden": true
    },
    "tags": []
   },
   "outputs": [
    {
     "ename": "TypeError",
     "evalue": "to_json() got an unexpected keyword argument 'drop_id'",
     "output_type": "error",
     "traceback": [
      "\u001b[0;31m---------------------------------------------------------------------------\u001b[0m",
      "\u001b[0;31mTypeError\u001b[0m                                 Traceback (most recent call last)",
      "Input \u001b[0;32mIn [6]\u001b[0m, in \u001b[0;36m<module>\u001b[0;34m\u001b[0m\n\u001b[0;32m----> 1\u001b[0m \u001b[43mgdf\u001b[49m\u001b[43m[\u001b[49m\u001b[38;5;124;43m'\u001b[39;49m\u001b[38;5;124;43maddress\u001b[39;49m\u001b[38;5;124;43m'\u001b[39;49m\u001b[43m]\u001b[49m\u001b[38;5;241;43m.\u001b[39;49m\u001b[43mto_json\u001b[49m\u001b[43m(\u001b[49m\u001b[43mdrop_id\u001b[49m\u001b[38;5;241;43m=\u001b[39;49m\u001b[38;5;28;43;01mTrue\u001b[39;49;00m\u001b[43m)\u001b[49m\n",
      "\u001b[0;31mTypeError\u001b[0m: to_json() got an unexpected keyword argument 'drop_id'"
     ]
    }
   ],
   "source": [
    "gdf['address'].to_json()"
   ]
  },
  {
   "cell_type": "code",
   "execution_count": 3,
   "id": "738d660d-e01f-4791-aa7f-0f91669b1c74",
   "metadata": {},
   "outputs": [],
   "source": [
    "r4m = Route4Me(credentials.R4M_API_Key)"
   ]
  },
  {
   "cell_type": "code",
   "execution_count": 8,
   "id": "2caaff1e-dadb-498d-ae5d-fdd0a4289812",
   "metadata": {},
   "outputs": [
    {
     "name": "stdout",
     "output_type": "stream",
     "text": [
      "Original Address: {'address': '455 S 4th St, Louisville, KY 40202'}\n",
      "Geocoded Address: {'address': '455 S 4th St, Louisville, KY 40202', 'lat': 38.251373, 'lng': -85.756971}\n",
      "Original Address: {'address': '1604 PARKRIDGE PKWY, Louisville, KY, 40214'}\n",
      "Geocoded Address: {'address': '1604 PARKRIDGE PKWY, Louisville, KY, 40214', 'lat': 38.141597, 'lng': -85.793871}\n",
      "Original Address: {'address': '1407 MCCOY, Louisville, KY, 40215'}\n",
      "Geocoded Address: {'address': '1407 MCCOY, Louisville, KY, 40215', 'lat': 38.202454, 'lng': -85.786505}\n",
      "Original Address: {'address': '4805 BELLEVUE AVE, Louisville, KY, 40215'}\n",
      "Geocoded Address: {'address': '4805 BELLEVUE AVE, Louisville, KY, 40215', 'lat': 38.178861, 'lng': -85.775014}\n",
      "Original Address: {'address': '730 CECIL AVENUE, Louisville, KY, 40211'}\n",
      "Geocoded Address: {'address': '730 CECIL AVENUE, Louisville, KY, 40211', 'lat': 38.248689, 'lng': -85.821064}\n"
     ]
    }
   ],
   "source": [
    "addresses = [{'address': '455 S 4th St, Louisville, KY 40202'},\n",
    "             {'address': '1604 PARKRIDGE PKWY, Louisville, KY, 40214'},\n",
    "             {'address': '1407 MCCOY, Louisville, KY, 40215'},\n",
    "             {'address': '4805 BELLEVUE AVE, Louisville, KY, 40215'},\n",
    "             {'address': '730 CECIL AVENUE, Louisville, KY, 40211'}, ]\n",
    "for address in addresses:\n",
    "    print('Original Address: {0}'.format(address))\n",
    "    geocode_error, address = r4m.address.fix_geocode(address)\n",
    "    if geocode_error:\n",
    "        print('Geocoding Error: {0}'.format(geocode_error))\n",
    "    print('Geocoded Address: {0}'.format(address))"
   ]
  },
  {
   "cell_type": "code",
   "execution_count": 61,
   "id": "1d281cf0-c2cf-4832-87df-3696c9ea3741",
   "metadata": {},
   "outputs": [],
   "source": [
    "addresses = (gdf['address'][:10] + ' Calgary Alberta Canada').str.cat(sep='\\n')"
   ]
  },
  {
   "cell_type": "code",
   "execution_count": 62,
   "id": "5894b4e1-2e4f-4f35-a6c0-5d7fdbb1bee4",
   "metadata": {},
   "outputs": [],
   "source": [
    "response = r4m.address.geocode(\n",
    "    addresses=addresses,\n",
    "    format='json'\n",
    ").decode('utf-8')"
   ]
  },
  {
   "cell_type": "code",
   "execution_count": 63,
   "id": "1f599838-fb43-4af3-8a77-50bc35390600",
   "metadata": {},
   "outputs": [
    {
     "data": {
      "text/html": [
       "<div>\n",
       "<style scoped>\n",
       "    .dataframe tbody tr th:only-of-type {\n",
       "        vertical-align: middle;\n",
       "    }\n",
       "\n",
       "    .dataframe tbody tr th {\n",
       "        vertical-align: top;\n",
       "    }\n",
       "\n",
       "    .dataframe thead th {\n",
       "        text-align: right;\n",
       "    }\n",
       "</style>\n",
       "<table border=\"1\" class=\"dataframe\">\n",
       "  <thead>\n",
       "    <tr style=\"text-align: right;\">\n",
       "      <th></th>\n",
       "      <th>address</th>\n",
       "      <th>lat</th>\n",
       "      <th>lng</th>\n",
       "      <th>type</th>\n",
       "      <th>normalized</th>\n",
       "      <th>confidence</th>\n",
       "      <th>original</th>\n",
       "    </tr>\n",
       "  </thead>\n",
       "  <tbody>\n",
       "    <tr>\n",
       "      <th>0</th>\n",
       "      <td>5532 Dalwood Way NW, Calgary, AB T3A 1S7, Canada</td>\n",
       "      <td>51.114209</td>\n",
       "      <td>-114.162902</td>\n",
       "      <td>premise</td>\n",
       "      <td>5532 dalwood wy nw calgary alberta canada\\n321...</td>\n",
       "      <td>high</td>\n",
       "      <td>5532 DALWOOD WY NW Calgary Alberta Canada\\n321...</td>\n",
       "    </tr>\n",
       "    <tr>\n",
       "      <th>1</th>\n",
       "      <td>714 12 Street SE, Calgary, AB T2G 3H5, Canada</td>\n",
       "      <td>51.042366</td>\n",
       "      <td>-114.032847</td>\n",
       "      <td>street_address</td>\n",
       "      <td>5532 dalwood wy nw calgary alberta canada\\n321...</td>\n",
       "      <td>high</td>\n",
       "      <td>5532 DALWOOD WY NW Calgary Alberta Canada\\n321...</td>\n",
       "    </tr>\n",
       "    <tr>\n",
       "      <th>2</th>\n",
       "      <td>321 Magnolia He SE, Calgary, AB T3M 2B6, Canada</td>\n",
       "      <td>50.891304</td>\n",
       "      <td>-113.914849</td>\n",
       "      <td>street_address</td>\n",
       "      <td>5532 dalwood wy nw calgary alberta canada\\n321...</td>\n",
       "      <td>high</td>\n",
       "      <td>5532 DALWOOD WY NW Calgary Alberta Canada\\n321...</td>\n",
       "    </tr>\n",
       "    <tr>\n",
       "      <th>3</th>\n",
       "      <td>2 Sage Valley Dr NW, Calgary, AB T3R, Canada</td>\n",
       "      <td>51.182912</td>\n",
       "      <td>-114.147397</td>\n",
       "      <td>street_address</td>\n",
       "      <td>5532 dalwood wy nw calgary alberta canada\\n321...</td>\n",
       "      <td>medium</td>\n",
       "      <td>5532 DALWOOD WY NW Calgary Alberta Canada\\n321...</td>\n",
       "    </tr>\n",
       "  </tbody>\n",
       "</table>\n",
       "</div>"
      ],
      "text/plain": [
       "                                            address        lat         lng  \\\n",
       "0  5532 Dalwood Way NW, Calgary, AB T3A 1S7, Canada  51.114209 -114.162902   \n",
       "1     714 12 Street SE, Calgary, AB T2G 3H5, Canada  51.042366 -114.032847   \n",
       "2   321 Magnolia He SE, Calgary, AB T3M 2B6, Canada  50.891304 -113.914849   \n",
       "3      2 Sage Valley Dr NW, Calgary, AB T3R, Canada  51.182912 -114.147397   \n",
       "\n",
       "             type                                         normalized  \\\n",
       "0         premise  5532 dalwood wy nw calgary alberta canada\\n321...   \n",
       "1  street_address  5532 dalwood wy nw calgary alberta canada\\n321...   \n",
       "2  street_address  5532 dalwood wy nw calgary alberta canada\\n321...   \n",
       "3  street_address  5532 dalwood wy nw calgary alberta canada\\n321...   \n",
       "\n",
       "  confidence                                           original  \n",
       "0       high  5532 DALWOOD WY NW Calgary Alberta Canada\\n321...  \n",
       "1       high  5532 DALWOOD WY NW Calgary Alberta Canada\\n321...  \n",
       "2       high  5532 DALWOOD WY NW Calgary Alberta Canada\\n321...  \n",
       "3     medium  5532 DALWOOD WY NW Calgary Alberta Canada\\n321...  "
      ]
     },
     "execution_count": 63,
     "metadata": {},
     "output_type": "execute_result"
    }
   ],
   "source": [
    "pd.json_normalize(ast.literal_eval(response))"
   ]
  },
  {
   "cell_type": "code",
   "execution_count": 24,
   "id": "eff7cea2-8461-4a84-a684-cab643407305",
   "metadata": {},
   "outputs": [
    {
     "ename": "NotImplementedError",
     "evalue": "",
     "output_type": "error",
     "traceback": [
      "\u001b[0;31m---------------------------------------------------------------------------\u001b[0m",
      "\u001b[0;31mNotImplementedError\u001b[0m                       Traceback (most recent call last)",
      "Input \u001b[0;32mIn [24]\u001b[0m, in \u001b[0;36m<module>\u001b[0;34m\u001b[0m\n\u001b[0;32m----> 1\u001b[0m \u001b[43mpd\u001b[49m\u001b[38;5;241;43m.\u001b[39;49m\u001b[43mjson_normalize\u001b[49m\u001b[43m(\u001b[49m\u001b[43mresponse\u001b[49m\u001b[43m[\u001b[49m\u001b[38;5;241;43m0\u001b[39;49m\u001b[43m]\u001b[49m\u001b[43m)\u001b[49m\n",
      "File \u001b[0;32m/opt/homebrew/Caskroom/miniforge/base/envs/fp/lib/python3.9/site-packages/pandas/io/json/_normalize.py:443\u001b[0m, in \u001b[0;36m_json_normalize\u001b[0;34m(data, record_path, meta, meta_prefix, record_prefix, errors, sep, max_level)\u001b[0m\n\u001b[1;32m    441\u001b[0m     data \u001b[38;5;241m=\u001b[39m \u001b[38;5;28mlist\u001b[39m(data)\n\u001b[1;32m    442\u001b[0m \u001b[38;5;28;01melse\u001b[39;00m:\n\u001b[0;32m--> 443\u001b[0m     \u001b[38;5;28;01mraise\u001b[39;00m \u001b[38;5;167;01mNotImplementedError\u001b[39;00m\n\u001b[1;32m    445\u001b[0m \u001b[38;5;66;03m# check to see if a simple recursive function is possible to\u001b[39;00m\n\u001b[1;32m    446\u001b[0m \u001b[38;5;66;03m# improve performance (see #15621) but only for cases such\u001b[39;00m\n\u001b[1;32m    447\u001b[0m \u001b[38;5;66;03m# as pd.Dataframe(data) or pd.Dataframe(data, sep)\u001b[39;00m\n\u001b[1;32m    448\u001b[0m \u001b[38;5;28;01mif\u001b[39;00m (\n\u001b[1;32m    449\u001b[0m     record_path \u001b[38;5;129;01mis\u001b[39;00m \u001b[38;5;28;01mNone\u001b[39;00m\n\u001b[1;32m    450\u001b[0m     \u001b[38;5;129;01mand\u001b[39;00m meta \u001b[38;5;129;01mis\u001b[39;00m \u001b[38;5;28;01mNone\u001b[39;00m\n\u001b[0;32m   (...)\u001b[0m\n\u001b[1;32m    453\u001b[0m     \u001b[38;5;129;01mand\u001b[39;00m max_level \u001b[38;5;129;01mis\u001b[39;00m \u001b[38;5;28;01mNone\u001b[39;00m\n\u001b[1;32m    454\u001b[0m ):\n",
      "\u001b[0;31mNotImplementedError\u001b[0m: "
     ]
    }
   ],
   "source": [
    "pd.json_normalize(response[0])"
   ]
  },
  {
   "cell_type": "code",
   "execution_count": 16,
   "id": "8e650c96-d740-4be9-b33b-8de985fc8427",
   "metadata": {},
   "outputs": [
    {
     "data": {
      "text/plain": [
       "b'[{\"address\":\"Dalwood, Axminster EX13, UK\",\"lat\":50.80003,\"lng\":-3.064961,\"type\":\"locality, political\",\"normalized\":\"5532 dalwood wy nw,321 magnolia he se,165 cranfield gr se,2 sage valley me nw,714 12 street se,103 deermont wy se,56 templegreen road ne,294 mahogany place se,59 sandpiper wy nw,1925 10a street sw\",\"confidence\":\"medium\",\"original\":\"5532 DALWOOD WY NW,321 MAGNOLIA HE SE,165 CRANFIELD GR SE,2 SAGE VALLEY ME NW,714 12 ST SE,103 DEERMONT WY SE,56 TEMPLEGREEN RD NE,294 MAHOGANY PL SE,59 SANDPIPER WY NW,1925 10A ST SW\"},{\"address\":\"Wyoming, USA\",\"lat\":43.075967,\"lng\":-107.290283,\"type\":\"administrative_area_level_1, political\",\"normalized\":\"5532 dalwood wy nw,321 magnolia he se,165 cranfield gr se,2 sage valley me nw,714 12 street se,103 deermont wy se,56 templegreen road ne,294 mahogany place se,59 sandpiper wy nw,1925 10a street sw\",\"confidence\":\"medium\",\"original\":\"5532 DALWOOD WY NW,321 MAGNOLIA HE SE,165 CRANFIELD GR SE,2 SAGE VALLEY ME NW,714 12 ST SE,103 DEERMONT WY SE,56 TEMPLEGREEN RD NE,294 MAHOGANY PL SE,59 SANDPIPER WY NW,1925 10A ST SW\"},{\"address\":\"Cranfield, Bedford MK43, UK\",\"lat\":52.068634,\"lng\":-0.608741,\"type\":\"locality, political\",\"normalized\":\"5532 dalwood wy nw,321 magnolia he se,165 cranfield gr se,2 sage valley me nw,714 12 street se,103 deermont wy se,56 templegreen road ne,294 mahogany place se,59 sandpiper wy nw,1925 10a street sw\",\"confidence\":\"medium\",\"original\":\"5532 DALWOOD WY NW,321 MAGNOLIA HE SE,165 CRANFIELD GR SE,2 SAGE VALLEY ME NW,714 12 ST SE,103 DEERMONT WY SE,56 TEMPLEGREEN RD NE,294 MAHOGANY PL SE,59 SANDPIPER WY NW,1925 10A ST SW\"},{\"address\":\"56 Templegreen Rd NE #103, Calgary, AB T1Y 4Y8, Canada\",\"lat\":51.086966,\"lng\":-113.941014,\"type\":\"subpremise\",\"normalized\":\"5532 dalwood wy nw,321 magnolia he se,165 cranfield gr se,2 sage valley me nw,714 12 street se,103 deermont wy se,56 templegreen road ne,294 mahogany place se,59 sandpiper wy nw,1925 10a street sw\",\"confidence\":\"high\",\"original\":\"5532 DALWOOD WY NW,321 MAGNOLIA HE SE,165 CRANFIELD GR SE,2 SAGE VALLEY ME NW,714 12 ST SE,103 DEERMONT WY SE,56 TEMPLEGREEN RD NE,294 MAHOGANY PL SE,59 SANDPIPER WY NW,1925 10A ST SW\"},{\"address\":\"56 Templegreen Rd NE #294, Calgary, AB T1Y 4Y8, Canada\",\"lat\":51.086966,\"lng\":-113.941014,\"type\":\"subpremise\",\"normalized\":\"5532 dalwood wy nw,321 magnolia he se,165 cranfield gr se,2 sage valley me nw,714 12 street se,103 deermont wy se,56 templegreen road ne,294 mahogany place se,59 sandpiper wy nw,1925 10a street sw\",\"confidence\":\"high\",\"original\":\"5532 DALWOOD WY NW,321 MAGNOLIA HE SE,165 CRANFIELD GR SE,2 SAGE VALLEY ME NW,714 12 ST SE,103 DEERMONT WY SE,56 TEMPLEGREEN RD NE,294 MAHOGANY PL SE,59 SANDPIPER WY NW,1925 10A ST SW\"}]'"
      ]
     },
     "execution_count": 16,
     "metadata": {},
     "output_type": "execute_result"
    }
   ],
   "source": [
    "response"
   ]
  },
  {
   "cell_type": "code",
   "execution_count": 9,
   "id": "8dc8f2fd-4115-40f7-91e0-b140ec96ad78",
   "metadata": {},
   "outputs": [
    {
     "name": "stdout",
     "output_type": "stream",
     "text": [
      "Original Address: 5532 DALWOOD WY NW\n"
     ]
    },
    {
     "ename": "AttributeError",
     "evalue": "'str' object has no attribute 'get'",
     "output_type": "error",
     "traceback": [
      "\u001b[0;31m---------------------------------------------------------------------------\u001b[0m",
      "\u001b[0;31mAttributeError\u001b[0m                            Traceback (most recent call last)",
      "Input \u001b[0;32mIn [9]\u001b[0m, in \u001b[0;36m<module>\u001b[0;34m\u001b[0m\n\u001b[1;32m      1\u001b[0m \u001b[38;5;28;01mfor\u001b[39;00m address \u001b[38;5;129;01min\u001b[39;00m gdf[\u001b[38;5;124m'\u001b[39m\u001b[38;5;124maddress\u001b[39m\u001b[38;5;124m'\u001b[39m][:\u001b[38;5;241m3\u001b[39m]:\n\u001b[1;32m      2\u001b[0m     \u001b[38;5;28mprint\u001b[39m(\u001b[38;5;124m'\u001b[39m\u001b[38;5;124mOriginal Address: \u001b[39m\u001b[38;5;132;01m{0}\u001b[39;00m\u001b[38;5;124m'\u001b[39m\u001b[38;5;241m.\u001b[39mformat(address))\n\u001b[0;32m----> 3\u001b[0m     geocode_error, address \u001b[38;5;241m=\u001b[39m \u001b[43mr4m\u001b[49m\u001b[38;5;241;43m.\u001b[39;49m\u001b[43maddress\u001b[49m\u001b[38;5;241;43m.\u001b[39;49m\u001b[43mfix_geocode\u001b[49m\u001b[43m(\u001b[49m\u001b[43maddress\u001b[49m\u001b[43m)\u001b[49m\n\u001b[1;32m      4\u001b[0m     \u001b[38;5;28;01mif\u001b[39;00m geocode_error:\n\u001b[1;32m      5\u001b[0m         \u001b[38;5;28mprint\u001b[39m(\u001b[38;5;124m'\u001b[39m\u001b[38;5;124mGeocoding Error: \u001b[39m\u001b[38;5;132;01m{0}\u001b[39;00m\u001b[38;5;124m'\u001b[39m\u001b[38;5;241m.\u001b[39mformat(geocode_error))\n",
      "File \u001b[0;32m/opt/homebrew/Caskroom/miniforge/base/envs/fp/lib/python3.9/site-packages/route4me/address.py:124\u001b[0m, in \u001b[0;36mAddress.fix_geocode\u001b[0;34m(self, address)\u001b[0m\n\u001b[1;32m    122\u001b[0m \u001b[38;5;28;01mdef\u001b[39;00m \u001b[38;5;21mfix_geocode\u001b[39m(\u001b[38;5;28mself\u001b[39m, address):\n\u001b[1;32m    123\u001b[0m     geocoding_error \u001b[38;5;241m=\u001b[39m \u001b[38;5;28;01mNone\u001b[39;00m\n\u001b[0;32m--> 124\u001b[0m     params \u001b[38;5;241m=\u001b[39m {\u001b[38;5;124m'\u001b[39m\u001b[38;5;124mformat\u001b[39m\u001b[38;5;124m'\u001b[39m: \u001b[38;5;124m'\u001b[39m\u001b[38;5;124mjson\u001b[39m\u001b[38;5;124m'\u001b[39m, \u001b[38;5;124m'\u001b[39m\u001b[38;5;124maddress\u001b[39m\u001b[38;5;124m'\u001b[39m: \u001b[43maddress\u001b[49m\u001b[38;5;241;43m.\u001b[39;49m\u001b[43mget\u001b[49m(\u001b[38;5;124m'\u001b[39m\u001b[38;5;124maddress\u001b[39m\u001b[38;5;124m'\u001b[39m)}\n\u001b[1;32m    125\u001b[0m     count \u001b[38;5;241m=\u001b[39m \u001b[38;5;241m0\u001b[39m\n\u001b[1;32m    126\u001b[0m     \u001b[38;5;28;01mwhile\u001b[39;00m \u001b[38;5;28;01mTrue\u001b[39;00m:\n",
      "\u001b[0;31mAttributeError\u001b[0m: 'str' object has no attribute 'get'"
     ]
    }
   ],
   "source": [
    "for address in gdf['address'][:3]:\n",
    "    print('Original Address: {0}'.format(address))\n",
    "    geocode_error, address = r4m.address.fix_geocode(address)\n",
    "    if geocode_error:\n",
    "        print('Geocoding Error: {0}'.format(geocode_error))\n",
    "    print('Geocoded Address: {0}'.format(address))"
   ]
  },
  {
   "cell_type": "code",
   "execution_count": 3,
   "id": "c3ddcf57-7d60-4515-a329-014536f6cc8a",
   "metadata": {},
   "outputs": [
    {
     "name": "stdout",
     "output_type": "stream",
     "text": [
      "Optimization Problem ID: F023857CD5F487810739CD6B025C2445\n",
      "0 - Bergdorf Goodman - 754 5th Ave New York, NY 10019\n",
      "1 - Giorgio Armani - 717 5th Ave New York, NY 10022\n",
      "2 - Ralph Lauren Women's and Home - 888 Madison Ave New York, NY 10014\n",
      "3 - Yigal Azrouël - 1011 Madison Ave New York, NY 10075\n",
      "4 - Frank Stella Clothier - 440 Columbus Ave New York, NY 10024\n",
      "5 - Liana - 324 Columbus Ave #1 New York, NY 10023\n",
      "6 - Toga Bike Shop - 110 W End Ave New York, NY 10023\n",
      "7 - BMW of Manhattan - 555 W 57th St New York, NY 10019\n",
      "8 - Verizon Wireless - 57 W 57th St New York, NY 10019\n"
     ]
    }
   ],
   "source": [
    "optimization = r4m.optimization\n",
    "address = r4m.address\n",
    "optimization.algorithm_type(ALGORITHM_TYPE.TSP)\n",
    "optimization.share_route(0)\n",
    "optimization.store_route(0)\n",
    "optimization.route_time(7 * 600)\n",
    "optimization.rt(True)\n",
    "optimization.route_max_duration(86400)\n",
    "optimization.route_name('Single Driver Round Trip')\n",
    "optimization.optimize(OPTIMIZE.TIME)\n",
    "optimization.distance_unit(DISTANCE_UNIT.MI)\n",
    "optimization.travel_mode(TRAVEL_MODE.DRIVING)\n",
    "address.add_address(\n",
    "    address='754 5th Ave New York, NY 10019',\n",
    "    lat=40.7636197,\n",
    "    lng=-73.9744388,\n",
    "    alias='Bergdorf Goodman',\n",
    "    is_depot=True,\n",
    "    time=0\n",
    ")\n",
    "address.add_address(\n",
    "    address='717 5th Ave New York, NY 10022',\n",
    "    lat=40.7669692,\n",
    "    lng=-73.9693864,\n",
    "    alias='Giorgio Armani',\n",
    "    time=60\n",
    ")\n",
    "address.add_address(\n",
    "    address='888 Madison Ave New York, NY 10014',\n",
    "    lat=40.7715154,\n",
    "    lng=-73.9669241,\n",
    "    alias='Ralph Lauren Women\\'s and Home',\n",
    "    time=60\n",
    ")\n",
    "address.add_address(\n",
    "    address='1011 Madison Ave New York, NY 10075',\n",
    "    lat=40.7772129,\n",
    "    lng=-73.9669,\n",
    "    alias='Yigal Azrou\\u00ebl',\n",
    "    time=60\n",
    ")\n",
    "address.add_address(\n",
    "    address='440 Columbus Ave New York, NY 10024',\n",
    "    lat=40.7808364,\n",
    "    lng=-73.9732729,\n",
    "    alias='Frank Stella Clothier',\n",
    "    time=60\n",
    ")\n",
    "address.add_address(\n",
    "    address='324 Columbus Ave #1 New York, NY 10023',\n",
    "    lat=40.7803123,\n",
    "    lng=-73.9793079,\n",
    "    alias='Liana',\n",
    "    time=60\n",
    ")\n",
    "address.add_address(\n",
    "    address='110 W End Ave New York, NY 10023',\n",
    "    lat=40.7753077,\n",
    "    lng=-73.9861529,\n",
    "    alias='Toga Bike Shop',\n",
    "    time=60\n",
    ")\n",
    "address.add_address(\n",
    "    address='555 W 57th St New York, NY 10019',\n",
    "    lat=40.7718005,\n",
    "    lng=-73.9897716,\n",
    "    alias='BMW of Manhattan',\n",
    "    time=60\n",
    ")\n",
    "address.add_address(\n",
    "    address='57 W 57th St New York, NY 10019',\n",
    "    lat=40.7558695,\n",
    "    lng=-73.9862019,\n",
    "    alias='Verizon Wireless',\n",
    "    time=60\n",
    ")\n",
    "\n",
    "response = r4m.run_optimization()\n",
    "print(\"Optimization Problem ID: {}\".format(response.get(\"optimization_problem_id\")))\n",
    "for a in response.get(\"addresses\", []):\n",
    "    print('{} - {} - {}'.format(a.get(\"sequence_no\"), a.get(\"alias\"), a.get(\"address\")))"
   ]
  },
  {
   "cell_type": "code",
   "execution_count": null,
   "id": "7833fdb0-af4e-4692-83d8-f439d48fb841",
   "metadata": {},
   "outputs": [],
   "source": [
    "r4m.route"
   ]
  }
 ],
 "metadata": {
  "kernelspec": {
   "display_name": "Python 3 (ipykernel)",
   "language": "python",
   "name": "python3"
  },
  "language_info": {
   "codemirror_mode": {
    "name": "ipython",
    "version": 3
   },
   "file_extension": ".py",
   "mimetype": "text/x-python",
   "name": "python",
   "nbconvert_exporter": "python",
   "pygments_lexer": "ipython3",
   "version": "3.9.10"
  }
 },
 "nbformat": 4,
 "nbformat_minor": 5
}
